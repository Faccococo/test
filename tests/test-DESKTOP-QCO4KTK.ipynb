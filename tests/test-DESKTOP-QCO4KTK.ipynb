{
 "cells": [
  {
   "cell_type": "code",
   "execution_count": null,
   "metadata": {},
   "outputs": [],
   "source": [
    "import pandas as pd\n",
    "import numpy as np\n",
    "import matplotlib.pyplot as plt\n",
    "\n",
    "df = pd.read_excel('dataframe2.xlsx', sheet_name='Sheet1')\n",
    "df"
   ]
  },
  {
   "cell_type": "code",
   "execution_count": null,
   "metadata": {},
   "outputs": [],
   "source": [
    "df.drop(['Unnamed: 0','percentage of hard mode','%','easywords','hardwords','easywordsband','hardwordsband'], axis=1, inplace=True)\n",
    "df = df.sort_values('Contest number', ascending=True)\n",
    "df.drop('Contest number', axis=1, inplace=True)\n",
    "df.reset_index(drop=True, inplace=True)\n",
    "data = df.iloc[:, 1:10].copy().reset_index()\n",
    "data"
   ]
  },
  {
   "cell_type": "code",
   "execution_count": null,
   "metadata": {},
   "outputs": [],
   "source": [
    "# 先预测Number of reported results\n",
    "data = data.iloc[:, 1:2].copy()\n",
    "data"
   ]
  },
  {
   "cell_type": "code",
   "execution_count": null,
   "metadata": {},
   "outputs": [],
   "source": [
    "plt.figure(figsize=(5, 3))\n",
    " \n",
    "data['Number of  reported results'].plot()\n",
    "plt.show()"
   ]
  },
  {
   "cell_type": "code",
   "execution_count": null,
   "metadata": {},
   "outputs": [],
   "source": [
    "def difference(data_set,interval=1):\n",
    "    diff=list()\n",
    "    for i in range(interval,len(data_set)):\n",
    "        value=data_set[i]-data_set[i-interval]\n",
    "        diff.append(value)\n",
    "    return pd.Series(diff)\n",
    " \n",
    "# 这里的series是之前数据预处理后得到的DateFrame型数据\n",
    "raw_value=data.values\n",
    "data_diff=difference(raw_value,1)"
   ]
  },
  {
   "cell_type": "code",
   "execution_count": null,
   "metadata": {},
   "outputs": [],
   "source": [
    "def timeseries_to_supervised(data,lag=1):\n",
    "    df=pd.DataFrame(data)\n",
    "    columns=[df.shift(1)]\n",
    "    columns.append(df)\n",
    "    df=pd.concat(columns,axis=1)\n",
    "    df.fillna(0,inplace=True)\n",
    "    return df\n",
    " \n",
    "seq=timeseries_to_supervised(data_diff, 1)\n",
    "data_seq=seq.values\n",
    "data_seq"
   ]
  },
  {
   "cell_type": "code",
   "execution_count": null,
   "metadata": {},
   "outputs": [],
   "source": [
    "test_ratio=0.2\n",
    "train_size=int(len(data_seq)*(1-test_ratio))\n",
    "test_size = len(data_seq) - train_size\n",
    "data_train,data_test=data_seq[0:train_size],data_seq[train_size:len(data_seq)]\n"
   ]
  },
  {
   "cell_type": "code",
   "execution_count": null,
   "metadata": {},
   "outputs": [],
   "source": [
    "from sklearn.preprocessing import MinMaxScaler\n",
    "def scale(train,test):\n",
    "    # 创建一个缩放器，将数据集中的数据缩放到[-1,1]的取值范围中\n",
    "    scaler=MinMaxScaler(feature_range=(-1,1))\n",
    "    # 使用缩放器来将训练集和测试集进行缩放\n",
    "    train_scaled=scaler.fit_transform(train)\n",
    "    test_scaled=scaler.fit_transform(test)\n",
    "    return scaler,train_scaled,test_scaled\n",
    " \n",
    "scaler,train_scaled,test_scaled=scale(data_train,data_test)"
   ]
  },
  {
   "cell_type": "code",
   "execution_count": null,
   "metadata": {},
   "outputs": [],
   "source": [
    "X,y=data_train[:,0:-1],data_train[:,-1]\n",
    "X=X.reshape(X.shape[0],1,X.shape[1])"
   ]
  },
  {
   "cell_type": "code",
   "execution_count": null,
   "metadata": {},
   "outputs": [],
   "source": [
    "from tensorflow.keras.models import Sequential\n",
    "from tensorflow.keras.layers import Dense,LSTM\n",
    "\n",
    "def fit_lstm(data_train,batch_size,nb_epoch,neurons):\n",
    "    # 将数据对中的x和y分开\n",
    "    X,y=data_train[:,0:-1],data_train[:,-1]\n",
    "    # 将2D数据拼接成3D数据，形状为[N*1*1]\n",
    "    X=X.reshape(X.shape[0],1,X.shape[1])\n",
    " \n",
    "    model=Sequential()\n",
    "    model.add(LSTM(neurons,batch_input_shape=(batch_size,X.shape[1],X.shape[2]),stateful=True))\n",
    "    model.add(Dense(1))\n",
    " \n",
    "    model.compile(loss='mean_squared_error',optimizer='adam')\n",
    "    for i in range(nb_epoch):\n",
    "        # shuffle是不混淆数据顺序\n",
    "        his=model.fit(X,y,batch_size=batch_size,verbose=1,shuffle=False)\n",
    "        # 每训练完一次就重置一次网络状态，网络状态与网络权重不同\n",
    "        model.reset_states()\n",
    "    return model\n",
    " \n",
    "# 构建一个LSTM模型并训练，样本数为1，训练次数为3，LSTM层神经元个数为4\n",
    "lstm_model=fit_lstm(train_scaled,batch_size=1,nb_epoch=10,neurons=4)"
   ]
  },
  {
   "cell_type": "code",
   "execution_count": null,
   "metadata": {},
   "outputs": [],
   "source": [
    "def forecast_lstm(model,batch_size,X):\n",
    "    # 将形状为[1:]的，包含一个元素的一维数组X，转换形状为[1,1,1]的3D张量\n",
    "    X=X.reshape(1,1,len(X))\n",
    "    # 输出形状为1行一列的二维数组yhat\n",
    "    yhat=model.predict(X,batch_size=batch_size)\n",
    "    # 将yhat中的结果返回\n",
    "    return yhat[0,0]\n",
    " \n",
    "# # 取出测试集中的一条数据，并将其拆分为X和y\n",
    "# X,y=data_test[i,0:-1],data_test[i,-1]\n",
    "# # 将训练好的模型、测试数据传入预测函数中\n",
    "# yhat=forecast_lstm(lstm_model,1,X)"
   ]
  },
  {
   "cell_type": "code",
   "execution_count": null,
   "metadata": {},
   "outputs": [],
   "source": [
    "# # 对预测的数据进行逆差分转换\n",
    "# def invert_difference(history,yhat,interval=1):\n",
    "#     return yhat+history[-interval]\n",
    " \n",
    "# # 将预测值进行逆缩放，使用之前训练好的缩放器，x为一维数组，y为实数\n",
    "# def invert_scale(scaler,X,y):\n",
    "#     # 将X,y转换为一个list列表\n",
    "#     new_row=[x for x in X]+[y]\n",
    "#     # 将列表转换为数组\n",
    "#     array=np.array(new_row)\n",
    "#     # 将数组重构成一个形状为[1,2]的二维数组->[[10,12]]\n",
    "#     array=array.reshape(1,len(array))\n",
    "#     # 逆缩放输入的形状为[1,2]，输出形状也是如此\n",
    "#     invert=scaler.inverse_transform(array)\n",
    "#     # 只需要返回y值即可\n",
    "#     return invert[0,-1]\n",
    " \n",
    "# # 将预测值进行逆缩放\n",
    "# yhat=invert_scale(scaler,X,yhat)\n",
    "# # 对预测的y值进行逆差分\n",
    "# yhat=invert_difference(raw_value,yhat,len(test_scaled)+1-i)"
   ]
  },
  {
   "cell_type": "code",
   "execution_count": null,
   "metadata": {},
   "outputs": [],
   "source": [
    "predictions=list()\n",
    "for i in range(len(test_scaled)):\n",
    "    # 将测试集拆分为X和y\n",
    "    X,y=data_test[i,0:-1],data_test[i,-1]\n",
    "    # 将训练好的模型、测试数据传入预测函数中\n",
    "    yhat=forecast_lstm(lstm_model,1,X)\n",
    "    # 将预测值进行逆缩放\n",
    "    yhat=invert_scale(scaler,X,yhat)\n",
    "    # 对预测的y值进行逆差分\n",
    "    yhat=invert_difference(raw_value,yhat,len(test_scaled)+1-i)\n",
    "    # 存储正在预测的y值\n",
    "    predictions.append(yhat)"
   ]
  },
  {
   "cell_type": "code",
   "execution_count": null,
   "metadata": {},
   "outputs": [],
   "source": [
    "plt.plot(raw_value[-test_size:])\n",
    "plt.plot(predictions)\n",
    "plt.legend(['true','pred'])\n",
    "plt.show()"
   ]
  },
  {
   "cell_type": "code",
   "execution_count": null,
   "metadata": {},
   "outputs": [],
   "source": []
  }
 ],
 "metadata": {
  "kernelspec": {
   "display_name": "py39",
   "language": "python",
   "name": "python3"
  },
  "language_info": {
   "codemirror_mode": {
    "name": "ipython",
    "version": 3
   },
   "file_extension": ".py",
   "mimetype": "text/x-python",
   "name": "python",
   "nbconvert_exporter": "python",
   "pygments_lexer": "ipython3",
   "version": "3.9.12"
  },
  "orig_nbformat": 4,
  "vscode": {
   "interpreter": {
    "hash": "a0399d2f0603f2b2c74fa4ecad5fd8ddda9eddefef95f68b325a688785a2489f"
   }
  }
 },
 "nbformat": 4,
 "nbformat_minor": 2
}
