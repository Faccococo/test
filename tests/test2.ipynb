{
 "cells": [
  {
   "cell_type": "code",
   "execution_count": null,
   "metadata": {},
   "outputs": [],
   "source": [
    "import pandas as pd\n",
    "import numpy as np\n",
    "import matplotlib.pyplot as plt\n",
    "\n",
    "df = pd.read_excel('../dataframe2.xlsx', sheet_name='Sheet1')\n",
    "df"
   ]
  },
  {
   "cell_type": "code",
   "execution_count": null,
   "metadata": {},
   "outputs": [],
   "source": [
    "df.drop(['Unnamed: 0','percentage of hard mode','%','easywords','hardwords','easywordsband','hardwordsband'], axis=1, inplace=True)\n",
    "df = df.sort_values('Contest number', ascending=True)\n",
    "df.drop('Contest number', axis=1, inplace=True)\n",
    "df.reset_index(drop=True, inplace=True)\n",
    "data = df.iloc[:, 1:10].copy().reset_index()\n",
    "data"
   ]
  },
  {
   "cell_type": "code",
   "execution_count": null,
   "metadata": {},
   "outputs": [],
   "source": [
    "data = data.iloc[:, 1:2].copy()\n",
    "data_origin = data.copy()\n",
    "data"
   ]
  },
  {
   "cell_type": "code",
   "execution_count": null,
   "metadata": {},
   "outputs": [],
   "source": [
    "plt.figure(figsize=(5, 3))\n",
    "data[:].plot()\n",
    "plt.show()"
   ]
  },
  {
   "cell_type": "code",
   "execution_count": null,
   "metadata": {},
   "outputs": [],
   "source": [
    "# 取差作为输入\n",
    "def difference(data_set,interval=1):\n",
    "    diff=list()\n",
    "    for i in range(interval,len(data_set)):\n",
    "        value=data_set[i]-data_set[i-interval]\n",
    "        diff.append(value)\n",
    "    return pd.Series(diff)\n",
    " \n",
    "# 这里的series是之前数据预处理后得到的DateFrame型数据\n",
    "data=data.values\n",
    "data_diff=difference(data,1)\n",
    "data_diff"
   ]
  },
  {
   "cell_type": "code",
   "execution_count": null,
   "metadata": {},
   "outputs": [],
   "source": [
    "def timeseries_to_supervised(data,lag=1):\n",
    "    df=pd.DataFrame(data)\n",
    "    columns=[df.shift(1)]\n",
    "    columns.append(df)\n",
    "    df=pd.concat(columns,axis=1)\n",
    "    df.fillna(0,inplace=True)\n",
    "    return df\n",
    " \n",
    "seq=timeseries_to_supervised(data_diff, 1)\n",
    "data_seq=seq.values\n",
    "data_seq"
   ]
  },
  {
   "cell_type": "code",
   "execution_count": null,
   "metadata": {},
   "outputs": [],
   "source": [
    "from sklearn.preprocessing import MinMaxScaler\n",
    "scaler = MinMaxScaler(feature_range=(-1, 1))\n",
    "data_seq = scaler.fit_transform(data_seq)"
   ]
  },
  {
   "cell_type": "code",
   "execution_count": null,
   "metadata": {},
   "outputs": [],
   "source": [
    "data_size = len(data_diff)\n",
    "\n",
    "test_ratio = 0.2\n",
    "train_size = int(len(data_seq) * (1 - test_ratio))\n",
    "test_size = len(data_seq) - train_size\n",
    "data_train, data_test = data_seq[0:train_size], data_seq[train_size:len(data_seq)]\n",
    "\n",
    "data_train.shape"
   ]
  },
  {
   "cell_type": "code",
   "execution_count": null,
   "metadata": {},
   "outputs": [],
   "source": [
    "X,y=data_train[:,0:-1],data_train[:,-1]\n",
    "X=X.reshape(X.shape[0],1,X.shape[1])\n",
    "X.shape, y.shape"
   ]
  },
  {
   "cell_type": "code",
   "execution_count": null,
   "metadata": {},
   "outputs": [],
   "source": [
    "from tensorflow.keras.models import Sequential\n",
    "from tensorflow.keras.layers import Dense,GRU\n",
    "\n",
    " \n",
    "model=Sequential()\n",
    "model.add(GRU(4,batch_input_shape=(1,X.shape[1],X.shape[2]),stateful=True))\n",
    "model.add(Dense(1))\n",
    "\n",
    "model.compile(loss='mean_squared_error',optimizer='adam', metrics=['mse'])\n",
    " \n",
    "# 构建一个LSTM模型并训练，样本数为1，训练次数为3，LSTM层神经元个数为4\n",
    "model.fit(X,y,batch_size=1,verbose=1,epochs=5,shuffle=False)"
   ]
  },
  {
   "cell_type": "code",
   "execution_count": null,
   "metadata": {},
   "outputs": [],
   "source": [
    "# 逆缩放\n",
    "def invert_scale(scaler,X,y):\n",
    "    new_row=[x for x in X]+[y]\n",
    "    array=np.array(new_row)\n",
    "    array=array.reshape(1,len(array))\n",
    "    invert=scaler.inverse_transform(array)\n",
    "    return invert[0,-1]\n",
    "\n",
    "# 逆差分\n",
    "def invert_difference(history,yhat,interval=1):\n",
    "    return yhat+history[-interval]"
   ]
  },
  {
   "cell_type": "code",
   "execution_count": null,
   "metadata": {},
   "outputs": [],
   "source": [
    "predictions=list()\n",
    "for i in range(len(data_test)):\n",
    "\n",
    "    X,y=data_test[i,0:-1],data_test[i,-1]\n",
    "    X=X.reshape(1,1,1)\n",
    "\n",
    "    y_pre = model.predict(X)\n",
    "    \n",
    "    y_pre=invert_scale(scaler,X,y_pre)\n",
    "    y_pre=invert_difference(data,y_pre,len(data_test)+1-i)\n",
    "    predictions.append(y_pre)"
   ]
  },
  {
   "cell_type": "code",
   "execution_count": null,
   "metadata": {},
   "outputs": [],
   "source": [
    "diff=data[:][-1] - data[:][-2]\n",
    "true_predict = [data[:][-1]]\n",
    "for i in range(90):\n",
    "    model_input = np.zeros((1,2))\n",
    "    model_input[0,0] = diff\n",
    "    model_input = scaler.transform(model_input)\n",
    "    model_input = model_input.reshape(1,1,1,2)[:, :, :, 0]\n",
    "    y_pre = model.predict(model_input)\n",
    "    y_pre=invert_scale(scaler,X,y_pre)\n",
    "    y_pre = y_pre + true_predict[-1]\n",
    "    true_predict.append(y_pre)\n",
    "    diff = true_predict[-1] - true_predict[-2]"
   ]
  },
  {
   "cell_type": "code",
   "execution_count": null,
   "metadata": {},
   "outputs": [],
   "source": [
    "\n",
    "# predictions_new = data[:train_size].tolist()+predictions\n",
    "\n",
    "# true_predict_new = data[:data_size].tolist()+true_predict\n",
    "# # true_predict = data+true_predict\n",
    "\n",
    "# plt.plot(true_predict_new)\n",
    "# plt.plot(data[:])\n",
    "# plt.plot(predictions_new)\n",
    "# plt.legend(['predict','data','test'])\n",
    "# plt.axvline(x = 289,color = 'black',ls = '--')\n",
    "# plt.axvline(x = 359,color = 'red',ls = ':')\n",
    "# plt.show()\n",
    "# plt.savefig('predict.png')\n",
    "\n",
    "\n",
    "predictions_new = data[:train_size].tolist()+predictions\n",
    "\n",
    "true_predict_new = data[:data_size].tolist()+true_predict\n",
    "# true_predict = data+true_predict\n",
    "\n",
    "\n",
    "plt.plot(true_predict_new)\n",
    "plt.plot(data[:])\n",
    "plt.plot(predictions_new)\n",
    "plt.legend(['predict','data','test'])\n",
    "plt.axvline(x = 289,color = 'black',ls = '--')\n",
    "plt.axvline(x = 359,color = 'red',ls = ':')\n",
    "plt.show()\n",
    "plt.savefig('predict.png')"
   ]
  },
  {
   "cell_type": "code",
   "execution_count": null,
   "metadata": {},
   "outputs": [],
   "source": [
    "amount = true_predict[-1]\n",
    "amount"
   ]
  }
 ],
 "metadata": {
  "kernelspec": {
   "display_name": "py39",
   "language": "python",
   "name": "python3"
  },
  "language_info": {
   "codemirror_mode": {
    "name": "ipython",
    "version": 3
   },
   "file_extension": ".py",
   "mimetype": "text/x-python",
   "name": "python",
   "nbconvert_exporter": "python",
   "pygments_lexer": "ipython3",
   "version": "3.9.12"
  },
  "orig_nbformat": 4,
  "vscode": {
   "interpreter": {
    "hash": "a0399d2f0603f2b2c74fa4ecad5fd8ddda9eddefef95f68b325a688785a2489f"
   }
  }
 },
 "nbformat": 4,
 "nbformat_minor": 2
}
